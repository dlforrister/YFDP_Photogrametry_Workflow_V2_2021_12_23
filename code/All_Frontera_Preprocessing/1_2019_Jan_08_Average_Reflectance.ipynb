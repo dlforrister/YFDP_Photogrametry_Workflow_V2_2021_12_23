{
 "cells": [
  {
   "cell_type": "markdown",
   "metadata": {},
   "source": [
    "V2 pipeline. Pre process on frontera nd then submit directly to metashape job\n",
    "    Step 1 rclone all files onto scratch"
   ]
  },
  {
   "cell_type": "code",
   "execution_count": 1,
   "metadata": {},
   "outputs": [
    {
     "name": "stderr",
     "output_type": "stream",
     "text": [
      "/home1/08531/dlforr/.local/lib/python3.7/site-packages/setuptools/_importlib.py:23: UserWarning: `importlib-metadata` version is incompatible with `setuptools`.\n",
      "This problem is likely to be solved by installing an updated version of `importlib-metadata`.\n",
      "  warnings.warn(msg)  # Ensure a descriptive message is shown.\n"
     ]
    }
   ],
   "source": [
    "import pandas as pd\n",
    "import os\n",
    "import matplotlib.pyplot as plt\n",
    "import datetime as dt\n",
    "import matplotlib.dates as mdates\n",
    "from matplotlib.dates import DateFormatter\n",
    "import matplotlib.ticker as ticker\n",
    "import glob\n",
    "import subprocess\n",
    "import time\n"
   ]
  },
  {
   "cell_type": "code",
   "execution_count": 2,
   "metadata": {},
   "outputs": [],
   "source": [
    "aquisition_month=\"5_2019_Jan\"\n",
    "aquisition_date=\"Jan_08_2019\"\n",
    "aquisition_date_folder=\"1_2019_Jan_08\"\n",
    "drive_base=\"gcloud:2018_Yasuni_Drone_Mapping\"\n",
    "\n",
    "base_folder=\"/scratch1/08531/dlforr/001_image_preprocess\"\n",
    "\n",
    "\n"
   ]
  },
  {
   "cell_type": "markdown",
   "metadata": {},
   "source": [
    "First create the necesarry subfolders"
   ]
  },
  {
   "cell_type": "code",
   "execution_count": 3,
   "metadata": {},
   "outputs": [],
   "source": [
    "os.chdir(base_folder)\n",
    "\n",
    "if not os.path.exists(aquisition_date_folder):    \n",
    "    os.mkdir(aquisition_date_folder)\n",
    "    os.mkdir(aquisition_date_folder+\"/Proccessed_Images\")\n",
    "    os.mkdir(aquisition_date_folder+\"/Proccessed_Images/Phantom\")\n",
    "    os.mkdir(aquisition_date_folder+\"/Reflectance\")\n",
    "    \n",
    "    \n",
    "    "
   ]
  },
  {
   "cell_type": "markdown",
   "metadata": {},
   "source": [
    "Next clone everyting using rclone\n",
    "\n",
    "1) copy refectance data"
   ]
  },
  {
   "cell_type": "code",
   "execution_count": null,
   "metadata": {},
   "outputs": [
    {
     "name": "stdout",
     "output_type": "stream",
     "text": [
      "~/src/rclone-v1.57.0-linux-amd64/rclone sync gcloud:2018_Yasuni_Drone_Mapping/5_2019_Jan/Jan_08_2019/Reflectance/ ./1_2019_Jan_08/Reflectance/ -v\n",
      "2022/08/19 15:54:38 INFO  : .DS_Store: Copied (new)\n",
      "2022/08/19 15:54:39 INFO  : MAPIR/2019_January_08_Flight_1_Post_1_B.JPG: Copied (new)\n",
      "2022/08/19 15:54:39 INFO  : MAPIR/2019_January_08_Flight_2_Pre_1_B.JPG: Copied (new)\n",
      "2022/08/19 15:54:39 INFO  : MAPIR/2019_January_08_Flight_1_Post_1_A.RAW: Copied (new)\n",
      "2022/08/19 15:54:40 INFO  : MAPIR/2019_January_08_Flight_2_Pre_1_A.RAW: Copied (new)\n",
      "2022/08/19 15:54:40 INFO  : MAPIR/2019_January_08_Flight_3_Post_1_A.RAW: Copied (new)\n",
      "2022/08/19 15:54:40 INFO  : MAPIR/2019_January_08_Flight_3_Post_1_B.JPG: Copied (new)\n",
      "2022/08/19 15:54:41 INFO  : MAPIR/2019_January_08_Flight_4_Post_1_B.JPG: Copied (new)\n",
      "2022/08/19 15:54:41 INFO  : MAPIR/2019_January_08_Flight_4_Post_1_A.RAW: Copied (new)\n",
      "2022/08/19 15:54:41 INFO  : MAPIR/2019_January_08_Flight_4_Pre_1_A.JPG: Copied (new)\n",
      "2022/08/19 15:54:42 INFO  : MAPIR/2019_January_08_Flight_4_Pre_1_A.RAW: Copied (new)\n",
      "2022/08/19 15:54:42 INFO  : MAPIR/2019_January_08_Flight_5_Post_1_A.RAW: Copied (new)\n",
      "2022/08/19 15:54:42 INFO  : MAPIR/2019_January_08_Flight_5_Post_1_B.JPG: Copied (new)\n",
      "2022/08/19 15:54:43 INFO  : Phantom/image_mean_reflectance.csv: Copied (new)\n",
      "2022/08/19 15:54:44 INFO  : Phantom/2019_Jan_8_Flight_1_Reflectance_Post_1.JPG: Copied (new)\n",
      "2022/08/19 15:54:44 INFO  : Phantom/2019_Jan_8_Flight_2_Reflectance_Post_1.JPG: Copied (new)\n",
      "2022/08/19 15:54:44 INFO  : Stationary_Reflectance/2018_0108_100208_001.JPG: Copied (new)\n",
      "2022/08/19 15:54:45 INFO  : Stationary_Reflectance/2018_0108_100410_003.JPG: Copied (new)\n",
      "2022/08/19 15:54:45 INFO  : Stationary_Reflectance/2018_0108_100309_002.JPG: Copied (new)\n",
      "2022/08/19 15:54:45 INFO  : Phantom/2019_Jan_8_Flight_3_Reflectance_Post_1.JPG: Copied (new)\n",
      "2022/08/19 15:54:45 INFO  : Stationary_Reflectance/2018_0108_100515_004.JPG: Copied (new)\n",
      "2022/08/19 15:54:46 INFO  : Stationary_Reflectance/2018_0108_100616_005.JPG: Copied (new)\n",
      "2022/08/19 15:54:46 INFO  : Stationary_Reflectance/2018_0108_100717_006.JPG: Copied (new)\n",
      "2022/08/19 15:54:46 INFO  : Stationary_Reflectance/2018_0108_100818_007.JPG: Copied (new)\n",
      "2022/08/19 15:54:47 INFO  : Stationary_Reflectance/2018_0108_101121_010.JPG: Copied (new)\n",
      "2022/08/19 15:54:47 INFO  : Stationary_Reflectance/2018_0108_101020_009.JPG: Copied (new)\n",
      "2022/08/19 15:54:47 INFO  : Stationary_Reflectance/2018_0108_100919_008.JPG: Copied (new)\n",
      "2022/08/19 15:54:47 INFO  : Stationary_Reflectance/2018_0108_101222_011.JPG: Copied (new)\n",
      "2022/08/19 15:54:48 INFO  : Stationary_Reflectance/2018_0108_101323_012.JPG: Copied (new)\n",
      "2022/08/19 15:54:48 INFO  : Stationary_Reflectance/2018_0108_101424_013.JPG: Copied (new)\n",
      "2022/08/19 15:54:48 INFO  : Stationary_Reflectance/2018_0108_101525_014.JPG: Copied (new)\n",
      "2022/08/19 15:54:48 INFO  : Stationary_Reflectance/2018_0108_101626_015.JPG: Copied (new)\n",
      "2022/08/19 15:54:49 INFO  : Stationary_Reflectance/2018_0108_101929_018.JPG: Copied (new)\n",
      "2022/08/19 15:54:49 INFO  : Stationary_Reflectance/2018_0108_101828_017.JPG: Copied (new)\n",
      "2022/08/19 15:54:49 INFO  : Stationary_Reflectance/2018_0108_102030_019.JPG: Copied (new)\n",
      "2022/08/19 15:54:50 INFO  : Stationary_Reflectance/2018_0108_101727_016.JPG: Copied (new)\n",
      "2022/08/19 15:54:50 INFO  : Stationary_Reflectance/2018_0108_102137_020.JPG: Copied (new)\n",
      "2022/08/19 15:54:50 INFO  : Stationary_Reflectance/2018_0108_102238_021.JPG: Copied (new)\n",
      "2022/08/19 15:54:50 INFO  : Stationary_Reflectance/2018_0108_102440_023.JPG: Copied (new)\n",
      "2022/08/19 15:54:51 INFO  : Stationary_Reflectance/2018_0108_102339_022.JPG: Copied (new)\n",
      "2022/08/19 15:54:51 INFO  : Stationary_Reflectance/2018_0108_102743_026.JPG: Copied (new)\n",
      "2022/08/19 15:54:51 INFO  : Stationary_Reflectance/2018_0108_102541_024.JPG: Copied (new)\n",
      "2022/08/19 15:54:51 INFO  : Stationary_Reflectance/2018_0108_102642_025.JPG: Copied (new)\n",
      "2022/08/19 15:54:52 INFO  : Stationary_Reflectance/2018_0108_102844_027.JPG: Copied (new)\n",
      "2022/08/19 15:54:52 INFO  : Stationary_Reflectance/2018_0108_103046_029.JPG: Copied (new)\n",
      "2022/08/19 15:54:53 INFO  : Stationary_Reflectance/2018_0108_102945_028.JPG: Copied (new)\n",
      "2022/08/19 15:54:53 INFO  : Stationary_Reflectance/2018_0108_103349_032.JPG: Copied (new)\n",
      "2022/08/19 15:54:53 INFO  : Stationary_Reflectance/2018_0108_103147_030.JPG: Copied (new)\n",
      "2022/08/19 15:54:53 INFO  : Stationary_Reflectance/2018_0108_103248_031.JPG: Copied (new)\n",
      "2022/08/19 15:54:54 INFO  : Stationary_Reflectance/2018_0108_103451_033.JPG: Copied (new)\n",
      "2022/08/19 15:54:54 INFO  : Stationary_Reflectance/2018_0108_103652_035.JPG: Copied (new)\n",
      "2022/08/19 15:54:54 INFO  : Stationary_Reflectance/2018_0108_103754_036.JPG: Copied (new)\n",
      "2022/08/19 15:54:54 INFO  : Stationary_Reflectance/2018_0108_103552_034.JPG: Copied (new)\n",
      "2022/08/19 15:54:55 INFO  : Stationary_Reflectance/2018_0108_103855_037.JPG: Copied (new)\n",
      "2022/08/19 15:54:55 INFO  : Stationary_Reflectance/2018_0108_104158_040.JPG: Copied (new)\n",
      "2022/08/19 15:54:55 INFO  : Stationary_Reflectance/2018_0108_103956_038.JPG: Copied (new)\n",
      "2022/08/19 15:54:55 INFO  : Stationary_Reflectance/2018_0108_104057_039.JPG: Copied (new)\n",
      "2022/08/19 15:54:56 INFO  : Stationary_Reflectance/2018_0108_104400_042.JPG: Copied (new)\n",
      "2022/08/19 15:54:56 INFO  : Stationary_Reflectance/2018_0108_104501_043.JPG: Copied (new)\n",
      "2022/08/19 15:54:56 INFO  : Stationary_Reflectance/2018_0108_104602_044.JPG: Copied (new)\n",
      "2022/08/19 15:54:56 INFO  : Stationary_Reflectance/2018_0108_104259_041.JPG: Copied (new)\n",
      "2022/08/19 15:54:57 INFO  : Stationary_Reflectance/2018_0108_104703_045.JPG: Copied (new)\n",
      "2022/08/19 15:54:57 INFO  : Stationary_Reflectance/2018_0108_104905_047.JPG: Copied (new)\n",
      "2022/08/19 15:54:57 INFO  : Stationary_Reflectance/2018_0108_104804_046.JPG: Copied (new)\n",
      "2022/08/19 15:54:57 INFO  : Stationary_Reflectance/2018_0108_105006_048.JPG: Copied (new)\n",
      "2022/08/19 15:54:58 INFO  : Stationary_Reflectance/2018_0108_105107_049.JPG: Copied (new)\n",
      "2022/08/19 15:54:58 INFO  : Stationary_Reflectance/2018_0108_105208_050.JPG: Copied (new)\n",
      "2022/08/19 15:54:58 INFO  : Stationary_Reflectance/2018_0108_105309_051.JPG: Copied (new)\n",
      "2022/08/19 15:54:58 INFO  : Stationary_Reflectance/2018_0108_105410_052.JPG: Copied (new)\n",
      "2022/08/19 15:54:59 INFO  : Stationary_Reflectance/2018_0108_105713_055.JPG: Copied (new)\n",
      "2022/08/19 15:54:59 INFO  : Stationary_Reflectance/2018_0108_105612_054.JPG: Copied (new)\n",
      "2022/08/19 15:54:59 INFO  : Stationary_Reflectance/2018_0108_105511_053.JPG: Copied (new)\n",
      "2022/08/19 15:54:59 INFO  : Stationary_Reflectance/2018_0108_105814_056.JPG: Copied (new)\n",
      "2022/08/19 15:55:00 INFO  : Stationary_Reflectance/2018_0108_105915_057.JPG: Copied (new)\n",
      "2022/08/19 15:55:00 INFO  : Stationary_Reflectance/2018_0108_110218_060.JPG: Copied (new)\n",
      "2022/08/19 15:55:00 INFO  : Stationary_Reflectance/2018_0108_110016_058.JPG: Copied (new)\n",
      "2022/08/19 15:55:01 INFO  : Stationary_Reflectance/2018_0108_110117_059.JPG: Copied (new)\n",
      "2022/08/19 15:55:01 INFO  : Stationary_Reflectance/2018_0108_110420_062.JPG: Copied (new)\n",
      "2022/08/19 15:55:01 INFO  : Stationary_Reflectance/2018_0108_110319_061.JPG: Copied (new)\n",
      "2022/08/19 15:55:01 INFO  : Stationary_Reflectance/2018_0108_110521_063.JPG: Copied (new)\n",
      "2022/08/19 15:55:01 INFO  : Stationary_Reflectance/2018_0108_110622_064.JPG: Copied (new)\n",
      "2022/08/19 15:55:02 INFO  : Stationary_Reflectance/2018_0108_110824_066.JPG: Copied (new)\n",
      "2022/08/19 15:55:02 INFO  : Stationary_Reflectance/2018_0108_110723_065.JPG: Copied (new)\n",
      "2022/08/19 15:55:03 INFO  : Stationary_Reflectance/2018_0108_111026_068.JPG: Copied (new)\n",
      "2022/08/19 15:55:03 INFO  : Stationary_Reflectance/2018_0108_111127_069.JPG: Copied (new)\n",
      "2022/08/19 15:55:03 INFO  : Stationary_Reflectance/2018_0108_110925_067.JPG: Copied (new)\n",
      "2022/08/19 15:55:03 INFO  : Stationary_Reflectance/2018_0108_111228_070.JPG: Copied (new)\n",
      "2022/08/19 15:55:04 INFO  : Stationary_Reflectance/2018_0108_111329_071.JPG: Copied (new)\n",
      "2022/08/19 15:55:04 INFO  : Stationary_Reflectance/2018_0108_111430_072.JPG: Copied (new)\n",
      "2022/08/19 15:55:04 INFO  : Stationary_Reflectance/2018_0108_111531_073.JPG: Copied (new)\n",
      "2022/08/19 15:55:04 INFO  : Stationary_Reflectance/2018_0108_111632_074.JPG: Copied (new)\n"
     ]
    },
    {
     "name": "stdout",
     "output_type": "stream",
     "text": [
      "2022/08/19 15:55:05 INFO  : Stationary_Reflectance/2018_0108_111733_075.JPG: Copied (new)\n",
      "2022/08/19 15:55:05 INFO  : Stationary_Reflectance/2018_0108_111834_076.JPG: Copied (new)\n",
      "2022/08/19 15:55:05 INFO  : Stationary_Reflectance/2018_0108_111935_077.JPG: Copied (new)\n",
      "2022/08/19 15:55:06 INFO  : Stationary_Reflectance/2018_0108_112036_078.JPG: Copied (new)\n",
      "2022/08/19 15:55:06 INFO  : Stationary_Reflectance/2018_0108_112137_079.JPG: Copied (new)\n",
      "2022/08/19 15:55:07 INFO  : Stationary_Reflectance/2018_0108_112238_080.JPG: Copied (new)\n",
      "2022/08/19 15:55:07 INFO  : Stationary_Reflectance/2018_0108_112339_081.JPG: Copied (new)\n",
      "2022/08/19 15:55:07 INFO  : Stationary_Reflectance/2018_0108_112440_082.JPG: Copied (new)\n",
      "2022/08/19 15:55:07 INFO  : Stationary_Reflectance/2018_0108_112541_083.JPG: Copied (new)\n",
      "2022/08/19 15:55:08 INFO  : Stationary_Reflectance/2018_0108_112844_086.JPG: Copied (new)\n",
      "2022/08/19 15:55:08 INFO  : Stationary_Reflectance/2018_0108_112945_087.JPG: Copied (new)\n",
      "2022/08/19 15:55:08 INFO  : Stationary_Reflectance/2018_0108_112743_085.JPG: Copied (new)\n",
      "2022/08/19 15:55:08 INFO  : Stationary_Reflectance/2018_0108_112642_084.JPG: Copied (new)\n",
      "2022/08/19 15:55:09 INFO  : Stationary_Reflectance/2018_0108_113046_088.JPG: Copied (new)\n",
      "2022/08/19 15:55:09 INFO  : Stationary_Reflectance/2018_0108_113349_091.JPG: Copied (new)\n",
      "2022/08/19 15:55:09 INFO  : Stationary_Reflectance/2018_0108_113147_089.JPG: Copied (new)\n",
      "2022/08/19 15:55:09 INFO  : Stationary_Reflectance/2018_0108_113248_090.JPG: Copied (new)\n",
      "2022/08/19 15:55:10 INFO  : Stationary_Reflectance/2018_0108_113753_095.JPG: Copied (new)\n",
      "2022/08/19 15:55:10 INFO  : Stationary_Reflectance/2018_0108_113652_094.JPG: Copied (new)\n",
      "2022/08/19 15:55:10 INFO  : Stationary_Reflectance/2018_0108_113450_092.JPG: Copied (new)\n",
      "2022/08/19 15:55:11 INFO  : Stationary_Reflectance/2018_0108_113551_093.JPG: Copied (new)\n",
      "2022/08/19 15:55:11 INFO  : Stationary_Reflectance/2018_0108_113854_096.JPG: Copied (new)\n",
      "2022/08/19 15:55:11 INFO  : Stationary_Reflectance/2018_0108_113955_097.JPG: Copied (new)\n"
     ]
    }
   ],
   "source": [
    "rclone_path= \"~/src/rclone-v1.57.0-linux-amd64/rclone\"\n",
    "\n",
    "rclone_source = drive_base  + \"/\" + aquisition_month + \"/\" + aquisition_date + \"/Reflectance/\"\n",
    "rclone_dest = \"./\" + aquisition_date_folder+\"/Reflectance/\"\n",
    "\n",
    "#print(rclone_source)\n",
    "#print(rclone_dest)\n",
    "\n",
    "\n",
    "command = rclone_path +\" sync \" +  rclone_source + \" \" + rclone_dest + \" -v\"\n",
    "print(command)\n",
    "\n",
    "!{command}\n"
   ]
  },
  {
   "cell_type": "markdown",
   "metadata": {},
   "source": [
    "Copy Phantom processed images"
   ]
  },
  {
   "cell_type": "code",
   "execution_count": null,
   "metadata": {},
   "outputs": [],
   "source": [
    "rclone_source = drive_base  + \"/\" + aquisition_month + \"/\" + aquisition_date + \"/Proccessed_Images/Phantom/\"\n",
    "rclone_dest = \"./\" + aquisition_date_folder+\"/Proccessed_Images/Phantom/\"\n",
    "\n",
    "command = rclone_path +\" sync \" +  rclone_source + \" \" + rclone_dest + \" -v\"\n",
    "print(command)\n",
    "\n",
    "!{command}"
   ]
  },
  {
   "cell_type": "markdown",
   "metadata": {},
   "source": [
    "Now that all necessary data have been copied calculate reflectance and choose a base image"
   ]
  },
  {
   "cell_type": "code",
   "execution_count": null,
   "metadata": {},
   "outputs": [],
   "source": [
    "os.chdir(\"/home1/08531/dlforr/github_dir/YFDP_Photogrametry_Workflow_V2_2021_12_23/code\")\n",
    "import functions_calculate_image_average_extract_coordinates as pipeline_functions\n",
    "\n",
    "\n",
    "colors = {'Target':'tab:blue', 1:'tab:orange', 2:'tab:green', 3:'tab:red', 4:'tab:purple', 5:'tab:brown'}\n",
    "\n",
    "def plot_dataset(images_path,reference_path,cam_type):\n",
    "    cam_types = ['Mapir', 'Mapir', 'Stationary']\n",
    "    if cam_type not in cam_types:\n",
    "        raise ValueError(\"Invalid camera type. Expected one of: %s\" % cam_types)\n",
    "\n",
    "    images = pd.read_csv(images_path)\n",
    "    images[\"file_name\"] = images[\"file_name\"].str[:-4]\n",
    "    images = images.sort_values([\"flight\", \"image\"], ascending = (True, True))\n",
    "    images[\"order_all\"] = list(range(1,len(images[\"file_name\"]+1)))\n",
    "    phantom_reflectance[\"file_name\"] = phantom_reflectance[\"file_name\"].str[:-4]\n",
    "    images = pd.read_csv(images_path)\n",
    "    images[\"file_name\"] = images[\"file_name\"].str[:-4]\n",
    "    reference_target = pd.read_csv(images_path)\n",
    "    reference_target = reference_target.sort_values([\"flight\"], ascending = (True))\n",
    "    reference_target[\"order_all\"] = list(range(1,len(phantom_reflectance[\"file_name\"])+1))\n",
    "    reference_target[\"flight\"] = \"Target\"\n",
    "    combined = pd.concat([reference_target,reference_target])\n",
    "    combined = combined.reset_index()\n",
    "    combined[\"date\"] = combined.date.astype(str)\n",
    "    combined[\"date\"] = [dt.datetime.strptime(d,\"%Y:%m:%d %H:%M:%S\") for d in combined[\"date\"]]\n",
    "    #{['Phantom':0, 'Mapir':1, 'Stationary':2]}\n",
    "    \n",
    "    #need to apply function to each type of camera and then plot at once\n",
    "    combined.plot(x=\"date\", y=\"mean_red\", kind=\"scatter\",c=combined['flight'].map(colors),title='Image Reflectance Per Flight', xlabel = \"Time\", ylabel = \"Red Reflectance\", ax=axis[{'Phantom':0, 'Mapir':1, 'Stationary':2}[cam_type]])\n",
    "\n",
    "  "
   ]
  },
  {
   "cell_type": "markdown",
   "metadata": {},
   "source": [
    "Work with Phantom Data:\n",
    "Step 1: Extract image metadata and coordinates from Phantom Images and Calculate averages:\n",
    "Step 2: Read in averages, Remove, file extension Sort images and create an overall order and plot change in reflectance over time/\n",
    "\n"
   ]
  },
  {
   "cell_type": "code",
   "execution_count": null,
   "metadata": {},
   "outputs": [],
   "source": [
    "#general path to date folder\n",
    "proj_base_path= base_folder + \"/\" + aquisition_date_folder\n",
    "os.chdir(proj_base_path)"
   ]
  },
  {
   "cell_type": "code",
   "execution_count": null,
   "metadata": {
    "scrolled": true
   },
   "outputs": [],
   "source": [
    "phantom_path = './Proccessed_Images/Phantom/'\n",
    "\n",
    "start_time = time.time()\n",
    "if not os.path.exists(phantom_path + \"image_mean_reflectance.csv\"):    \n",
    "    pipeline_functions.calc_image_average(phantom_path)\n",
    "\n",
    "print(\"--- %s minutes ---\" % int((time.time() - start_time)/60))\n"
   ]
  },
  {
   "cell_type": "code",
   "execution_count": null,
   "metadata": {},
   "outputs": [],
   "source": [
    "Phantom_images = pd.read_csv(phantom_path + \"image_mean_reflectance.csv\")\n",
    "Phantom_images = Phantom_images.sort_values([\"flight\", \"image\"], ascending = (True, True))\n",
    "Phantom_images[\"order_all\"] = list(range(1,len(Phantom_images[\"file_name\"])+1))\n",
    "Phantom_images\n"
   ]
  },
  {
   "cell_type": "markdown",
   "metadata": {},
   "source": [
    "Read in Phantom Reflectance Target Images"
   ]
  },
  {
   "cell_type": "code",
   "execution_count": null,
   "metadata": {},
   "outputs": [],
   "source": [
    "Phantom_Reflectance_path= proj_base_path + '/Reflectance/Phantom/'\n",
    "\n",
    "if not os.path.exists(Phantom_Reflectance_path + \"image_mean_reflectance.csv\"):    \n",
    "    pipeline_functions.calc_image_average(Phantom_Reflectance_path)\n",
    "    \n",
    "\n",
    "phantom_reflectance = pd.read_csv(Phantom_Reflectance_path + \"image_mean_reflectance.csv\")\n",
    "phantom_reflectance = phantom_reflectance.sort_values([\"flight\"], ascending = (True))\n",
    "phantom_reflectance[\"order_all\"] = list(range(1,len(phantom_reflectance[\"file_name\"])+1))\n",
    "phantom_reflectance[\"flight\"] = \"Target\"\n",
    "phantom_reflectance\n",
    "\n"
   ]
  },
  {
   "cell_type": "markdown",
   "metadata": {},
   "source": [
    "Combine Phantom Images with the reflectance target data"
   ]
  },
  {
   "cell_type": "code",
   "execution_count": null,
   "metadata": {},
   "outputs": [],
   "source": [
    "phantom = pd.concat([phantom_reflectance,Phantom_images])\n",
    "phantom = phantom.reset_index()\n",
    "phantom[\"date\"] = phantom.date.astype(str)\n",
    "phantom[\"date\"]= [dt.datetime.strptime(d,\"%Y:%m:%d %H:%M:%S\") for d in phantom[\"date\"]]\n",
    "phantom"
   ]
  },
  {
   "cell_type": "markdown",
   "metadata": {},
   "source": [
    "Read in Stationary Reflectance\n",
    "*note october 2nd the folders are messed up so you have to use this special function"
   ]
  },
  {
   "cell_type": "code",
   "execution_count": null,
   "metadata": {},
   "outputs": [],
   "source": [
    "Station_path= proj_base_path + \"/Reflectance/Stationary_Reflectance/\"\n",
    "print(Station_path)\n",
    "\n",
    "start_time = time.time()\n",
    "if not os.path.exists(Station_path + \"image_mean_reflectance.csv\"):\n",
    "    pipeline_functions.calc_image_average_stationary(Station_path)\n",
    "    print(\"--- %s minutes ---\" % (time.time() - start_time))\n",
    "    \n"
   ]
  },
  {
   "cell_type": "code",
   "execution_count": null,
   "metadata": {},
   "outputs": [],
   "source": [
    "stationary_refectance = pd.read_csv(Station_path + \"image_mean_reflectance.csv\")\n",
    "stationary_refectance = stationary_refectance.sort_values([\"date\"], ascending = (True))\n",
    "stationary_refectance[\"order_all\"] = list(range(1,len(stationary_refectance[\"file_name\"])+1))\n",
    "\n",
    "stationary_refectance[\"date\"] = stationary_refectance.date.astype(str)\n",
    "stationary_refectance[\"date\"]= [dt.datetime.strptime(d,\"%Y:%m:%d %H:%M:%S\") for d in stationary_refectance[\"date\"]]\n",
    "stationary_refectance[\"flight\"] = 1\n",
    "stationary_refectance[\"image\"] = stationary_refectance[\"order_all\"]\n",
    "stationary_refectance"
   ]
  },
  {
   "cell_type": "markdown",
   "metadata": {},
   "source": [
    "Adjust Time Stamp values that were messed up due to cameras not being insync\n",
    "\n",
    "Phantom = Correct\n",
    "MAPIR = 3 Hours Early\n",
    "Stationary = Correct\n"
   ]
  },
  {
   "cell_type": "code",
   "execution_count": null,
   "metadata": {},
   "outputs": [],
   "source": [
    "hours_added = dt.timedelta(hours = 0)\n",
    "phantom[\"date\"] = phantom[\"date\"]+hours_added"
   ]
  },
  {
   "cell_type": "code",
   "execution_count": null,
   "metadata": {},
   "outputs": [],
   "source": [
    "phantom_target = phantom[phantom[\"flight\"] == \"Target\"]\n",
    "phantom_target\n",
    "\n",
    "phantom_target.plot(x=\"date\", y=\"mean_red\", kind=\"scatter\",c=phantom_target['flight'].map(colors),title='Phantom', xlabel = \"Time\", ylabel = \"Red Reflectance\")\n",
    "# Make most of the ticklabels empty so the labels don't get too crowded\n",
    "\n",
    "\n",
    "\n",
    "#ticklabels_1 = ['']*len(phantom.index)\n",
    "# Every 4th ticklable shows the month and day\n",
    "#ticklabels_1[::2] = [item.strftime('%H:%M') for item in phantom.date[::2]]\n",
    "#ax_1.xaxis.set_major_formatter(ticker.FixedFormatter(ticklabels_1))\n",
    "#date_form = DateFormatter('%H:%M')\n",
    "#ax_1.xaxis.set_major_formatter(date_form)\n"
   ]
  },
  {
   "cell_type": "code",
   "execution_count": null,
   "metadata": {},
   "outputs": [],
   "source": [
    "figure, axis = plt.subplots(2, 1)\n",
    "\n",
    "# Phantom Data\n",
    "ax_1 = phantom.plot(x=\"date\", y=\"mean_red\", kind=\"scatter\",c=phantom['flight'].map(colors),title='Phantom', xlabel = \"Time\", ylabel = \"Red Reflectance\",ax=axis[0])\n",
    "# Make most of the ticklabels empty so the labels don't get too crowded\n",
    "\n",
    "#ticklabels_1 = ['']*len(phantom.index)\n",
    "# Every 4th ticklable shows the month and day\n",
    "#ticklabels_1[::2] = [item.strftime('%H:%M') for item in phantom.date[::2]]\n",
    "#ax_1.xaxis.set_major_formatter(ticker.FixedFormatter(ticklabels_1))\n",
    "date_form = DateFormatter('%H:%M')\n",
    "ax_1.xaxis.set_major_formatter(date_form)\n",
    "\n",
    "  \n",
    "# stationary_refectance\n",
    "ax_3 = stationary_refectance.plot(x=\"date\", y=\"mean_red\", kind=\"scatter\",c=stationary_refectance['flight'].map(colors),title='Stationary Reflectance', xlabel = \"Time\", ylabel = \"Red Reflectance\",ax=axis[1])\n",
    "# Make most of the ticklabels empty so the labels don't get too crowded\n",
    "#ticklabels_3 = ['']*len(stationary_refectance.index)\n",
    "# Every 4th ticklable shows the month and day\n",
    "#ticklabels_3[::2] = [item.strftime('%H:%M') for item in stationary_refectance.date[::2]]\n",
    "#ax_3.xaxis.set_major_formatter(ticker.FixedFormatter(ticklabels_3))\n",
    "ax_3.xaxis.set_major_formatter(date_form)\n",
    "\n",
    "\n",
    "plt.subplots_adjust(hspace = 1)\n",
    "\n",
    "\n",
    "\n",
    "figure.patch.set_facecolor('white')\n",
    "figure.set_figheight(10)\n",
    "#plt.savefig(proj_base_path + 'Proccessed_Images/1_Raw_Reflectance_2018_Feb_28.png', bbox_inches='tight')\n"
   ]
  },
  {
   "cell_type": "markdown",
   "metadata": {},
   "source": [
    "#Next Images have to be normalized:\n",
    "\n",
    "Step 1: identify normalization images.\n",
    "\n",
    "Step 2: Normalize data using the following bash/python code\n",
    "\n",
    "\n"
   ]
  },
  {
   "cell_type": "code",
   "execution_count": null,
   "metadata": {},
   "outputs": [],
   "source": [
    "#Phantom Images\n",
    "start_time = time.time()\n",
    "\n",
    "sourceFolder = proj_base_path + \"/Proccessed_Images/Phantom\"\n",
    "destImage_rel = \"2019_Jan_15_Phantom_Flight_1_80.JPG\"\n",
    "\n",
    "command = 'sourceFolder=' + sourceFolder + '; ' + 'cd \"${sourceFolder}\"; ' + 'destImage_rel=' + destImage_rel + '; ' + 'destImage=\"${sourceFolder}/${destImage_rel}\"; ' + 'ls *.JPG | xargs -n 1 -P 32 -I @ python3 /home1/08531/dlforr/github_dir/YFDP_Photogrametry_Workflow_V2_2021_12_23/code/normalize_single_image.py -sourceFolder $sourceFolder -destImage $destImage -image @'\n",
    "\n",
    "!{command}\n",
    "print(str(round((time.time() - start_time)/60,2))+ \" minutes\")\n"
   ]
  },
  {
   "cell_type": "code",
   "execution_count": null,
   "metadata": {},
   "outputs": [],
   "source": [
    "import multiprocessing\n",
    "\n",
    "multiprocessing.cpu_count()"
   ]
  },
  {
   "cell_type": "code",
   "execution_count": null,
   "metadata": {},
   "outputs": [],
   "source": [
    "import subprocess\n",
    "\n"
   ]
  },
  {
   "cell_type": "code",
   "execution_count": null,
   "metadata": {},
   "outputs": [],
   "source": [
    "sourceFolder = proj_base_path + \"/Proccessed_Images/Phantom/\"\n",
    "sourceFolder_cmd='sourceFolder=' + sourceFolder + ';'\n",
    "sourceFolder_cmd"
   ]
  },
  {
   "cell_type": "code",
   "execution_count": null,
   "metadata": {},
   "outputs": [],
   "source": [
    "sourceFolder = proj_base_path + \"/Proccessed_Images/Phantom/\"\n",
    "command = 'sourceFolder=' + sourceFolder + '; ' + 'cd \"${sourceFolder}\"; ' + '''add_exif() {image=$1; outputname=\"${image/.JPG/_HSV_V_fixed.JPG}\"; output=\"./output/${outputname}\"; echo \"${image}\"; eval \"/home1/08531/dlforr/src/Image-ExifTool-12.44/exiftool -q -q -overwrite_original_in_place -TagsFromFile ${image} $'-all:all>all:all' ${output}\"}; ''' +  'export -f add_exif;' + 'parallel -j8 add_exif {} ::: *.JPG'\n",
    "print(command)\n",
    "#subprocess.call(command,shell=True)"
   ]
  },
  {
   "cell_type": "markdown",
   "metadata": {},
   "source": [
    "Now that all normalized images have been created, we need to add back in the exif data to the normalized images with Exif tools.\n",
    "\n",
    "First add the phantom images back in"
   ]
  },
  {
   "cell_type": "code",
   "execution_count": null,
   "metadata": {},
   "outputs": [],
   "source": [
    "#Phantom Images\n",
    "sourceFolder = proj_base_path + \"/Proccessed_Images/Phantom/\"\n",
    "\n",
    "start_time = time.time()\n",
    "\n",
    "command = 'sourceFolder=' + sourceFolder + '; ' + 'cd \"${sourceFolder}\"; ' + 'ls *.JPG | xargs -n 1 -P 32 -I {} /home1/08531/dlforr/github_dir/YFDP_Photogrametry_Workflow_V2_2021_12_23/code/simple_add_exif.sh ' + sourceFolder + ' {}'\n",
    "!{command}\n",
    "print(\"--- %s seconds ---\" % (time.time() - start_time))\n",
    "\n",
    "\n",
    "\n"
   ]
  },
  {
   "cell_type": "code",
   "execution_count": null,
   "metadata": {},
   "outputs": [],
   "source": [
    "#After images have been normalized. Here we create the same graph as above to see how well normalization worked\n"
   ]
  },
  {
   "cell_type": "code",
   "execution_count": null,
   "metadata": {},
   "outputs": [],
   "source": [
    "os.chdir(proj_base_path)\n",
    "phantom_path = './Proccessed_Images/Phantom/'\n",
    "\n",
    "start_time = time.time()\n",
    "if not os.path.exists(phantom_path +\"output/\" + \"image_mean_reflectance.csv\"):    \n",
    "    pipeline_functions.calc_image_average(phantom_path,post_norm=True)\n",
    "    \n",
    "if not os.path.exists(phantom_path +\"output/\" + \"images_metadata_gps.csv\"):    \n",
    "    pipeline_functions.extract_gps_metadat_multi_thred(phantom_path +\"output/\")\n",
    "    \n",
    "print(\"--- %s minutes ---\" % int((time.time() - start_time)/60))\n",
    "    \n",
    "    \n",
    "Phantom_images_post_norm = pd.read_csv(phantom_path + \"output/\" \"image_mean_reflectance.csv\")\n",
    "Phantom_images_post_norm = Phantom_images_post_norm.sort_values([\"flight\", \"image\"], ascending = (True, True))\n",
    "Phantom_images_post_norm[\"order_all\"] = list(range(1,len(Phantom_images_post_norm[\"file_name\"])+1))\n",
    "\n",
    "Phantom_images_post_norm\n"
   ]
  },
  {
   "cell_type": "code",
   "execution_count": null,
   "metadata": {},
   "outputs": [],
   "source": [
    "phantom_post_norm = pd.concat([phantom_reflectance,Phantom_images_post_norm])\n",
    "phantom_post_norm = phantom_post_norm.reset_index()\n",
    "phantom_post_norm[\"date\"] = phantom_post_norm.date.astype(str)\n",
    "phantom_post_norm[\"date\"]= [dt.datetime.strptime(d,\"%Y:%m:%d %H:%M:%S\") for d in phantom_post_norm[\"date\"]]\n",
    "\n",
    "\n",
    "phantom_post_norm[\"GCC\"] = phantom_post_norm[\"mean_green\"]/(phantom_post_norm[\"mean_red\"]+phantom_post_norm[\"mean_green\"]+phantom_post_norm[\"mean_blue\"])\n",
    "phantom_post_norm"
   ]
  },
  {
   "cell_type": "code",
   "execution_count": null,
   "metadata": {},
   "outputs": [],
   "source": [
    "figure, axis = plt.subplots(3, 1)\n",
    "\n",
    "# Phantom Data\n",
    "ax_1 = phantom.plot(x=\"date\", y=\"mean_red\", kind=\"scatter\",c=phantom['flight'].map(colors),title='Phantom', xlabel = \"Time\", ylabel = \"Red Reflectance\",ax=axis[0])\n",
    "# Make most of the ticklabels empty so the labels don't get too crowded\n",
    "date_form = DateFormatter('%H:%M')\n",
    "ax_1.xaxis.set_major_formatter(date_form)\n",
    "\n",
    "# phantom_post_norm Data\n",
    "ax_2 = phantom_post_norm.plot(x=\"date\", y=\"mean_red\", kind=\"scatter\",c=phantom_post_norm['flight'].map(colors),title='Phantom Normalized', xlabel = \"Time\", ylabel = \"Red Reflectance\",ax=axis[1])\n",
    "# Make most of the ticklabels empty so the labels don't get too crowded\n",
    "ax_2.xaxis.set_major_formatter(date_form)\n",
    "  \n",
    "# stationary_refectance\n",
    "ax_3 = stationary_refectance.plot(x=\"date\", y=\"mean_red\", kind=\"scatter\",c=stationary_refectance['flight'].map(colors),title='Stationary Reflectance', xlabel = \"Time\", ylabel = \"Red Reflectance\",ax=axis[2])\n",
    "# Make most of the ticklabels empty so the labels don't get too crowded\n",
    "ax_3.xaxis.set_major_formatter(date_form)\n",
    "\n",
    "\n",
    "plt.subplots_adjust(hspace = 1)\n",
    "\n",
    "figure.patch.set_facecolor('white')\n",
    "figure.set_figheight(10)\n",
    "#plt.savefig(proj_base_path + 'Proccessed_Images/1_Raw_Reflectance_2018_Feb_28.png', bbox_inches='tight')"
   ]
  },
  {
   "cell_type": "markdown",
   "metadata": {},
   "source": [
    "Now sync the folder back up to google drive\n",
    "1) sync reference data"
   ]
  },
  {
   "cell_type": "code",
   "execution_count": null,
   "metadata": {},
   "outputs": [],
   "source": [
    "rclone_path= \"~/src/rclone-v1.57.0-linux-amd64/rclone\"\n",
    "os.chdir(proj_base_path)\n",
    "rclone_source = \"./Reflectance/\"\n",
    "rclone_dest = drive_base  + \"/\" + aquisition_month + \"/\" + aquisition_date + \"/Reflectance/\"\n",
    "\n",
    "\n",
    "command = rclone_path +\" sync \" +  rclone_source + \" \" + rclone_dest + \" -v\"\n",
    "\n",
    "\n",
    "!{command}"
   ]
  },
  {
   "cell_type": "markdown",
   "metadata": {},
   "source": [
    "Now copy all phantom processed image data"
   ]
  },
  {
   "cell_type": "code",
   "execution_count": null,
   "metadata": {},
   "outputs": [],
   "source": [
    "rclone_source = proj_base_path +\"/Proccessed_Images/Phantom/\"\n",
    "rclone_dest = drive_base  + \"/\" + aquisition_month + \"/\" + aquisition_date + \"/Proccessed_Images/Phantom/\"\n",
    "\n",
    "\n",
    "command = rclone_path +\" sync \" +  rclone_source + \" \" + rclone_dest + \" -v\"\n",
    "print(rclone_dest)\n",
    "\n",
    "!{command}"
   ]
  },
  {
   "cell_type": "markdown",
   "metadata": {},
   "source": [
    "Next build project base folder in scractch and copy images\n"
   ]
  },
  {
   "cell_type": "code",
   "execution_count": null,
   "metadata": {},
   "outputs": [],
   "source": [
    "import shutil\n",
    "os.chdir(\"/scratch1/08531/dlforr/000_metashape_projects\")\n",
    "\n",
    "if not os.path.exists(aquisition_date_folder):    \n",
    "    os.mkdir(aquisition_date_folder)\n",
    "    os.mkdir(aquisition_date_folder + \"/images\")\n",
    "         \n",
    "src_dir= proj_base_path + \"/Proccessed_Images/Phantom/output/\"       \n",
    "dst_dir= \"/scratch1/08531/dlforr/000_metashape_projects/\"+ aquisition_date_folder+ \"/images/\"\n",
    "                \n",
    "          \n",
    "for jpgfile in os.listdir(src_dir):\n",
    "    if jpgfile.endswith(\".JPG\"):\n",
    "        shutil.copy(os.path.join(src_dir, jpgfile), dst_dir) \n",
    "\n",
    "         \n"
   ]
  }
 ],
 "metadata": {
  "interpreter": {
   "hash": "c6e4e9f98eb68ad3b7c296f83d20e6de614cb42e90992a65aa266555a3137d0d"
  },
  "kernelspec": {
   "display_name": "Python 3",
   "language": "python",
   "name": "python3"
  },
  "language_info": {
   "codemirror_mode": {
    "name": "ipython",
    "version": 3
   },
   "file_extension": ".py",
   "mimetype": "text/x-python",
   "name": "python",
   "nbconvert_exporter": "python",
   "pygments_lexer": "ipython3",
   "version": "3.7.0"
  }
 },
 "nbformat": 4,
 "nbformat_minor": 2
}
